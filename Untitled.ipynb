{
 "cells": [
  {
   "cell_type": "markdown",
   "metadata": {},
   "source": [
    "### 目的\n",
    "- RNA-seqのデータを用いたがん種予測アルゴリズムの構築\n",
    "- TOP RNA panelデータを変換しがん種予測を行う\n",
    "\n",
    "CaSPRE: Cancer subtype Prediction with RNA Expression"
   ]
  },
  {
   "cell_type": "code",
   "execution_count": 1,
   "metadata": {},
   "outputs": [],
   "source": [
    "# necessary modules\n",
    "\n",
    "import warnings\n",
    "warnings.filterwarnings('ignore')\n",
    "\n",
    "\n",
    "from sklearn.model_selection import train_test_split\n",
    "from sklearn.preprocessing import LabelEncoder, OneHotEncoder, StandardScaler, MinMaxScaler\n",
    "from sklearn.metrics import confusion_matrix, accuracy_score, f1_score, classification_report, recall_score, log_loss\n",
    "from sklearn.model_selection import GridSearchCV, StratifiedKFold\n",
    "from sklearn.ensemble import RandomForestClassifier\n",
    "from sklearn.ensemble import RandomForestRegressor\n",
    "from sklearn.model_selection import KFold\n",
    "from sklearn import preprocessing\n",
    "import sklearn.model_selection\n",
    "from sklearn.feature_selection import SelectKBest, f_regression, mutual_info_classif, SelectFromModel\n",
    "from sklearn.svm import LinearSVC\n",
    "from sklearn.linear_model import Lasso, LogisticRegression\n",
    "from sklearn.metrics import roc_auc_score, roc_curve, matthews_corrcoef\n",
    "import numpy as np\n",
    "import arviz\n",
    "import tensorflow as tf\n",
    "from scipy import linalg\n",
    "from boruta import BorutaPy\n",
    "\n",
    "import keras\n",
    "from tensorflow.keras import backend as K \n",
    "from keras.utils import np_utils\n",
    "from tensorflow.keras.models import Model, load_model, model_from_json, Sequential, model_from_config\n",
    "from tensorflow.keras.layers import concatenate, ThresholdedReLU, PReLU, LeakyReLU, ReLU, Activation, Conv1D, Conv2D, SeparableConv1D, SeparableConv2D, MaxPooling1D, MaxPooling2D,Input,Dense,AveragePooling2D, Dropout, Flatten, Activation, GlobalAveragePooling2D, Lambda, BatchNormalization\n",
    "from tensorflow.keras.callbacks import EarlyStopping, ReduceLROnPlateau, ModelCheckpoint, Callback ,TensorBoard, LearningRateScheduler\n",
    "from tensorflow.keras.preprocessing import image as images\n",
    "from tensorflow.keras.preprocessing.image import array_to_img, img_to_array, load_img\n",
    "from tensorflow.keras import optimizers\n",
    "from tensorflow.keras import regularizers\n",
    "from tensorflow.keras import initializers\n",
    "from tensorflow.keras.metrics import TruePositives, TrueNegatives, FalsePositives, FalseNegatives, Precision, Recall\n",
    "from tensorflow.python.framework import ops\n",
    "import cv2\n",
    "import gc\n",
    "\n",
    "from sklearn.datasets import load_boston\n",
    "\n",
    "import importlib\n",
    "import pystan\n",
    "import warnings\n",
    "import requests\n",
    "import pandas as pd\n",
    "import cv2\n",
    "import os, os.path\n",
    "import pathlib\n",
    "import shutil\n",
    "import math\n",
    "import codecs\n",
    "import time\n",
    "import matplotlib\n",
    "matplotlib.use('Agg')\n",
    "#%matplotlib inline\n",
    "import matplotlib.pyplot as plt\n",
    "from PIL import Image\n",
    "from glob import glob\n",
    "import seaborn as sns\n"
   ]
  },
  {
   "cell_type": "code",
   "execution_count": 9,
   "metadata": {},
   "outputs": [],
   "source": [
    "# settings\n",
    "\n",
    "###################\n",
    "# CHANGE the home directory for your environment.\n",
    "home_dir = '/mnt/HDD8TB/CaSPRE'\n",
    "###################\n",
    "\n",
    "seed1 = 1\n",
    "seed2 = 2\n",
    "\n",
    "# setting for k-fold cross validation\n",
    "n_Splits = 5\n",
    "split = 0.25\n",
    "\n",
    "# delete very rare classes \n",
    "factor_no = 9\n",
    "\n",
    "data_dir = home_dir + '/TCGA_TOP_genes'\n",
    "result_dir = data_dir + '_result'\n",
    "learning = 0.0001\n",
    "X_size = 1375\n",
    "Y_size = 1\n",
    "batch_size = 64\n",
    "epochs = 128\n",
    "patience = 16\n",
    "\n",
    "\n",
    "\n",
    "\n",
    "acc_name = result_dir + \"/accuracy.txt\"\n",
    "acc_table = result_dir + \"/acc_table.tsv\"\n",
    "\n",
    "\n",
    "if not os.path.exists(data_dir):\n",
    "    os.mkdir(data_dir)\n",
    "if not os.path.exists(result_dir):\n",
    "    os.mkdir(result_dir)\n",
    "\n",
    "n_categories = len(os.listdir(data_dir))\n",
    "\n"
   ]
  },
  {
   "cell_type": "code",
   "execution_count": 11,
   "metadata": {},
   "outputs": [],
   "source": [
    "df_genes = pd.read_csv(home_dir + '/gene_list.csv', header=None, )\n",
    "df_ENSG = pd.read_table(home_dir + '/ENSG_to_NCBI.tsv', header=0, index_col=0)\n",
    "df_FPKM = pd.read_table(home_dir + '/FPKM_test.tsv', header=None)\n",
    "\n",
    "ENSG_list = (df_ENSG[df_ENSG[\"external_gene_name\"].isin(df_genes[0])]).index.drop_duplicates()\n",
    "df_FPKM[\"id\"] = df_FPKM[0].str.split(pat = \".\", expand = True)[0]\n",
    "ID_list = df_FPKM[df_FPKM[\"id\"].isin(ENSG_list)][1]\n",
    "\n",
    "np.save(\"ID_list\", ID_list)\n",
    "\n",
    "dir = '/mnt/HDD8TB/RNA_seq/TCGA_values'"
   ]
  },
  {
   "cell_type": "code",
   "execution_count": 79,
   "metadata": {},
   "outputs": [],
   "source": [
    "datapath = \"/mnt/HDD8TB/RNA_seq/FPKM_calc/expression_data/*/*FPKM.txt.gz\"\n",
    "files = glob(datapath)  \n",
    "files = sorted(files)\n",
    "\n",
    "dir = '/mnt/HDD8TB/CasPRE/TCGA_values'"
   ]
  },
  {
   "cell_type": "code",
   "execution_count": null,
   "metadata": {},
   "outputs": [],
   "source": [
    "for dataNb in range(len(files)):\n",
    "    filename = files[dataNb]\n",
    "    basename = os.path.splitext(os.path.basename(filename))[0]\n",
    "    tmp = pd.read_csv(filename,delimiter=\"\\t\", header=None)\n",
    "    tmp.columns = ['name','value']\n",
    "    tmp = tmp.set_index('name')\n",
    "    tmp = tmp.sort_index()\n",
    "    tmp = tmp[\"value\"] + 1\n",
    "    tmp = tmp[ID_list]\n",
    "    tmp = np.log2(tmp) / 16 - 0.5\n",
    "    filename = os.path.join(basename + \".npy\")\n",
    "    print(dataNb, filename, ' / ', len(files))\n",
    "    np.save(os.path.join(dir, filename), tmp)"
   ]
  },
  {
   "cell_type": "code",
   "execution_count": 133,
   "metadata": {},
   "outputs": [
    {
     "data": {
      "text/plain": [
       "'/mnt/HDD8TB/RNA_seq/TCGA_values/1a13663e-9015-4eeb-ab6a-8f40a8bbf403.FPKM.txt.npy'"
      ]
     },
     "execution_count": 133,
     "metadata": {},
     "output_type": "execute_result"
    }
   ],
   "source": [
    "os.path.join(dir, filename)"
   ]
  },
  {
   "cell_type": "code",
   "execution_count": 128,
   "metadata": {},
   "outputs": [],
   "source": [
    "basename = os.path.splitext(os.path.basename(filename))[0]\n"
   ]
  },
  {
   "cell_type": "code",
   "execution_count": 132,
   "metadata": {},
   "outputs": [],
   "source": [
    "dir = '/mnt/HDD8TB/RNA_seq/TCGA_values'\n"
   ]
  },
  {
   "cell_type": "code",
   "execution_count": null,
   "metadata": {},
   "outputs": [],
   "source": []
  }
 ],
 "metadata": {
  "kernelspec": {
   "display_name": "Python 3",
   "language": "python",
   "name": "python3"
  },
  "language_info": {
   "codemirror_mode": {
    "name": "ipython",
    "version": 3
   },
   "file_extension": ".py",
   "mimetype": "text/x-python",
   "name": "python",
   "nbconvert_exporter": "python",
   "pygments_lexer": "ipython3",
   "version": "3.6.9"
  }
 },
 "nbformat": 4,
 "nbformat_minor": 4
}
